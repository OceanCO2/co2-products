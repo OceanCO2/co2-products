{
 "cells": [
  {
   "cell_type": "code",
   "execution_count": 1,
   "id": "8edb6a65",
   "metadata": {},
   "outputs": [],
   "source": [
    "%load_ext autoreload\n",
    "%autoreload 2"
   ]
  },
  {
   "cell_type": "code",
   "execution_count": 3,
   "id": "f6965f72",
   "metadata": {},
   "outputs": [],
   "source": [
    "import co2_synthesis as cs\n",
    "import pandas as pd\n",
    "import numpy as np"
   ]
  },
  {
   "cell_type": "markdown",
   "id": "ae480dbe",
   "metadata": {},
   "source": [
    "```text\n",
    "p is the product dictionary with the following keys:\n",
    "    data-attrs: string of data attributes for filtering\n",
    "    card-title: string for the title on the card\n",
    "    card-subheading: string for the subheading on the card\n",
    "    card-image: URL string for the image on the card\n",
    "    card-attributes: list of dictionaries with keys:\n",
    "        icon: string for the icon class (fontawesome)\n",
    "        label: string for the hover text\n",
    "        value: string for the attribute value\n",
    "    card-summary: string for the summary text on the front of the card\n",
    "    card-citation: string for the citation text on the back of the card\n",
    "    card-citation-link: URL string for the citation link\n",
    "    card-data-access: URL string for the data access link\n",
    "    card-details: list of dictionaries with keys:\n",
    "        title: string for the detail title\n",
    "        content: string for the detail content\n",
    "```"
   ]
  },
  {
   "cell_type": "code",
   "execution_count": 26,
   "id": "d8d8c081",
   "metadata": {},
   "outputs": [],
   "source": [
    "full_url = \"https://docs.google.com/spreadsheets/d/1rg9yf1IxSr6fI7UvbrbMqrywRgIPS240uaphIplUXBo/edit?gid=0#gid=0\"\n",
    "\n",
    "df = cs.google_sheet.get_sheet_data(full_url, reader='pandas').replace({np.nan: \"\"})\n",
    "products = df.apply(cs.process_product_row, axis=1)\n",
    "filters = cs.create_filters(products)"
   ]
  },
  {
   "cell_type": "code",
   "execution_count": 28,
   "id": "12132489",
   "metadata": {},
   "outputs": [],
   "source": [
    "import os\n",
    "from jinja2 import Environment, FileSystemLoader\n",
    "\n",
    "template_dir = os.path.join(os.path.dirname('.'), 'static', 'templates')\n",
    "env = Environment(loader=FileSystemLoader(template_dir))\n",
    "template = env.get_template('template.html')\n",
    "\n",
    "html:str = template.render(products=products, filters=filters, cfg=cs.cfg)\n",
    "\n",
    "with open('./output/index2.html', 'w') as f:\n",
    "    f.write(html)\n"
   ]
  },
  {
   "cell_type": "code",
   "execution_count": 29,
   "id": "60051091",
   "metadata": {},
   "outputs": [
    {
     "data": {
      "text/plain": [
       "{'Data Type': {'options': ['Surface data-derived'], 'type': 'multi-select'},\n",
       " 'Temporal resolution': {'options': ['climatology', 'monthly', '8-daily'],\n",
       "  'type': 'multi-select'},\n",
       " 'Spatial resolution': {'options': ['1.0°', '0.25°'], 'type': 'multi-select'},\n",
       " 'Period': {'type': 'date-range',\n",
       "  'min_max': [1982, 2024],\n",
       "  'default': [1982, 2022]},\n",
       " 'Spatial domains': {'options': ['Surface', 'Open Ocean'],\n",
       "  'type': 'multi-select'}}"
      ]
     },
     "execution_count": 29,
     "metadata": {},
     "output_type": "execute_result"
    }
   ],
   "source": [
    "filters"
   ]
  }
 ],
 "metadata": {
  "kernelspec": {
   "display_name": "co2-synthesis",
   "language": "python",
   "name": "python3"
  },
  "language_info": {
   "codemirror_mode": {
    "name": "ipython",
    "version": 3
   },
   "file_extension": ".py",
   "mimetype": "text/x-python",
   "name": "python",
   "nbconvert_exporter": "python",
   "pygments_lexer": "ipython3",
   "version": "3.11.13"
  }
 },
 "nbformat": 4,
 "nbformat_minor": 5
}

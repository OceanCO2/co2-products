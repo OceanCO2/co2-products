{
 "cells": [
  {
   "cell_type": "code",
   "execution_count": 2,
   "id": "8edb6a65",
   "metadata": {},
   "outputs": [],
   "source": [
    "%load_ext autoreload\n",
    "%autoreload 2"
   ]
  },
  {
   "cell_type": "code",
   "execution_count": 3,
   "id": "f6965f72",
   "metadata": {},
   "outputs": [],
   "source": [
    "import co2_synthesis as cs\n",
    "import pandas as pd\n",
    "import numpy as np"
   ]
  },
  {
   "cell_type": "code",
   "execution_count": 23,
   "id": "60051091",
   "metadata": {},
   "outputs": [],
   "source": [
    "cs.generate_page.main()"
   ]
  },
  {
   "cell_type": "code",
   "execution_count": null,
   "id": "77676c65",
   "metadata": {},
   "outputs": [],
   "source": []
  },
  {
   "cell_type": "code",
   "execution_count": null,
   "id": "c813508e",
   "metadata": {},
   "outputs": [],
   "source": []
  },
  {
   "cell_type": "markdown",
   "id": "ae480dbe",
   "metadata": {},
   "source": [
    "```text\n",
    "p is the product dictionary with the following keys:\n",
    "    data-attrs: string of data attributes for filtering\n",
    "    card-title: string for the title on the card\n",
    "    card-subheading: string for the subheading on the card\n",
    "    card-image: URL string for the image on the card\n",
    "    card-attributes: list of dictionaries with keys:\n",
    "        icon: string for the icon class (fontawesome)\n",
    "        label: string for the hover text\n",
    "        value: string for the attribute value\n",
    "    card-summary: string for the summary text on the front of the card\n",
    "    card-citation: string for the citation text on the back of the card\n",
    "    card-citation-link: URL string for the citation link\n",
    "    card-data-access: URL string for the data access link\n",
    "    card-details: list of dictionaries with keys:\n",
    "        title: string for the detail title\n",
    "        content: string for the detail content\n",
    "```"
   ]
  },
  {
   "cell_type": "code",
   "execution_count": 8,
   "id": "d8d8c081",
   "metadata": {},
   "outputs": [],
   "source": [
    "full_url = \"https://docs.google.com/spreadsheets/d/1rg9yf1IxSr6fI7UvbrbMqrywRgIPS240uaphIplUXBo/edit?gid=0#gid=0\"\n",
    "\n",
    "df = cs.google_sheet.get_sheet_data(full_url, reader='pandas').replace({np.nan: \"\"})\n",
    "products = df.apply(cs.process_product_row, axis=1)\n",
    "filters = cs.create_filters(products)"
   ]
  },
  {
   "cell_type": "code",
   "execution_count": 10,
   "id": "56dc59ab",
   "metadata": {},
   "outputs": [
    {
     "data": {
      "text/plain": [
       "{'data-category': 'Surface data-derived',\n",
       " 'card-title': 'OceanSODA-ETHZv1',\n",
       " 'card-subheading': 'Gregor and Gruber (2020)',\n",
       " 'card-image': 'https://essd.copernicus.org/articles/13/777/2021/essd-13-777-2021-avatar-web.png',\n",
       " 'card-attribute': [{'icon': 'fa-solid fa-hourglass-start',\n",
       "   'label': 'Temporal resolution',\n",
       "   'value': 'monthly'},\n",
       "  {'icon': 'fa-solid fa-ruler-horizontal',\n",
       "   'label': 'Spatial resolution',\n",
       "   'value': '1.0°'},\n",
       "  {'icon': 'fa-solid fa-calendar-days',\n",
       "   'label': 'Period',\n",
       "   'value': '1982 - 2022'},\n",
       "  {'icon': 'fa-solid fa-globe',\n",
       "   'label': 'Spatial domains',\n",
       "   'value': 'Open Ocean, Surface'}],\n",
       " 'card-summary': 'Full marine carbonate system',\n",
       " 'card-citation': 'Gregor and Gruber (2020)',\n",
       " 'card-citation-link': 'https://doi.org/10.5194/essd-13-777-2021',\n",
       " 'card-data-access': 'https://doi.org/10.25921/m5wx-ja34',\n",
       " 'card-detail': [{'title': 'Highlight', 'content': ''},\n",
       "  {'title': 'Method', 'content': ''}],\n",
       " 'data-attrs': 'data-data-type=\"Surface data-derived\" data-temporal-resolution=\"monthly\" data-spatial-resolution=\"1.0°\" data-period=\"1982 - 2022\" data-spatial-domains=\"Open Ocean||Surface\"'}"
      ]
     },
     "execution_count": 10,
     "metadata": {},
     "output_type": "execute_result"
    }
   ],
   "source": [
    "products[0]"
   ]
  },
  {
   "cell_type": "code",
   "execution_count": 6,
   "id": "12132489",
   "metadata": {},
   "outputs": [],
   "source": [
    "import os\n",
    "from jinja2 import Environment, FileSystemLoader\n",
    "\n",
    "template_dir = os.path.join(os.path.dirname('.'), 'static', 'templates')\n",
    "env = Environment(loader=FileSystemLoader(template_dir))\n",
    "template = env.get_template('template.html')\n",
    "\n",
    "html:str = template.render(products=products, filters=filters, cfg=cs.cfg)\n",
    "\n",
    "with open('./output/index2.html', 'w') as f:\n",
    "    f.write(html)\n"
   ]
  },
  {
   "cell_type": "code",
   "execution_count": 7,
   "id": "de149fa0",
   "metadata": {},
   "outputs": [
    {
     "data": {
      "text/plain": [
       "{'Data Type': {'options': ['Surface data-derived'], 'type': 'multi-select'},\n",
       " 'Temporal resolution': {'options': ['8-daily', 'monthly', 'climatology'],\n",
       "  'type': 'multi-select'},\n",
       " 'Spatial resolution': {'options': ['1.0°', '0.25°'], 'type': 'multi-select'},\n",
       " 'Period': {'type': 'date-range',\n",
       "  'min_max': [1982, 2024],\n",
       "  'default': [1982, 2022]},\n",
       " 'Spatial domains': {'options': ['Surface', 'Open Ocean'],\n",
       "  'type': 'multi-select'}}"
      ]
     },
     "execution_count": 7,
     "metadata": {},
     "output_type": "execute_result"
    }
   ],
   "source": [
    "filters"
   ]
  }
 ],
 "metadata": {
  "kernelspec": {
   "display_name": "co2-synthesis",
   "language": "python",
   "name": "python3"
  },
  "language_info": {
   "codemirror_mode": {
    "name": "ipython",
    "version": 3
   },
   "file_extension": ".py",
   "mimetype": "text/x-python",
   "name": "python",
   "nbconvert_exporter": "python",
   "pygments_lexer": "ipython3",
   "version": "3.11.13"
  }
 },
 "nbformat": 4,
 "nbformat_minor": 5
}
